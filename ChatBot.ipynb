{
 "cells": [
  {
   "cell_type": "code",
   "execution_count": 1,
   "id": "amended-nelson",
   "metadata": {},
   "outputs": [
    {
     "name": "stdout",
     "output_type": "stream",
     "text": [
      "WARNING:tensorflow:From c:\\users\\lagra\\virtual\\tutorial-env\\lib\\site-packages\\tensorflow\\python\\compat\\v2_compat.py:96: disable_resource_variables (from tensorflow.python.ops.variable_scope) is deprecated and will be removed in a future version.\n",
      "Instructions for updating:\n",
      "non-resource variables are not supported in the long term\n",
      "curses is not supported on this machine (please install/reinstall curses for an optimal experience)\n"
     ]
    }
   ],
   "source": [
    "import nltk\n",
    "from nltk.stem.lancaster import LancasterStemmer\n",
    "import numpy \n",
    "import tflearn\n",
    "import tensorflow\n",
    "import json\n",
    "import random\n",
    "import pickle\n",
    "import pandas as pd\n"
   ]
  },
  {
   "cell_type": "code",
   "execution_count": 2,
   "id": "controversial-radar",
   "metadata": {},
   "outputs": [
    {
     "name": "stderr",
     "output_type": "stream",
     "text": [
      "[nltk_data] Downloading package punkt to\n",
      "[nltk_data]     C:\\Users\\lagra\\AppData\\Roaming\\nltk_data...\n",
      "[nltk_data]   Package punkt is already up-to-date!\n"
     ]
    },
    {
     "name": "stdout",
     "output_type": "stream",
     "text": [
      "{'contenido': [{'tag': 'Saludo', 'patrones': ['Hola', 'Un saludo', 'Hello', 'Buen dia', 'Buenos dias'], 'respuestas': ['Hola como estas', 'Como te va', 'Un gusto saludarte']}, {'tag': 'despedida', 'patrones': ['Adios', 'Chao', 'Hasta la proxima', 'Que estes muy bien'], 'respuestas': ['Cuidate', 'Nos vemos pronto', 'Te estare esperando']}]}\n"
     ]
    }
   ],
   "source": [
    "stemmer = LancasterStemmer()\n",
    "nltk.download('punkt')\n",
    "\n",
    "with open(\"content.json\")as file_json:\n",
    "    datos= json.load(file_json)\n",
    "print(datos)\n"
   ]
  },
  {
   "cell_type": "code",
   "execution_count": 13,
   "id": "permanent-place",
   "metadata": {},
   "outputs": [
    {
     "name": "stdout",
     "output_type": "stream",
     "text": [
      "[[0, 0, 0, 0, 0, 0, 0, 0, 0, 1, 0, 0, 0, 0, 0, 0], [0, 0, 0, 0, 0, 0, 0, 0, 0, 0, 0, 0, 0, 0, 1, 1], [0, 0, 0, 0, 0, 0, 0, 0, 1, 0, 0, 0, 0, 0, 0, 0], [0, 0, 1, 0, 0, 1, 0, 0, 0, 0, 0, 0, 0, 0, 0, 0], [0, 0, 0, 1, 0, 1, 0, 0, 0, 0, 0, 0, 0, 0, 0, 0], [1, 0, 0, 0, 0, 0, 0, 0, 0, 0, 0, 0, 0, 0, 0, 0], [0, 0, 0, 0, 1, 0, 0, 0, 0, 0, 0, 0, 0, 0, 0, 0], [0, 0, 0, 0, 0, 0, 0, 1, 0, 0, 1, 0, 1, 0, 0, 0], [0, 1, 0, 0, 0, 0, 1, 0, 0, 0, 0, 1, 0, 1, 0, 0]]\n",
      "[[1, 0], [1, 0], [1, 0], [1, 0], [1, 0], [0, 1], [0, 1], [0, 1], [0, 1]]\n"
     ]
    }
   ],
   "source": [
    "palabras = []\n",
    "tags = []\n",
    "auxX = []\n",
    "auxY = []\n",
    "\n",
    "for contenido in datos[\"contenido\"]:\n",
    "    for patrones in contenido[\"patrones\"]:\n",
    "        auxPalabra = nltk.word_tokenize(patrones)\n",
    "        palabras.extend(auxPalabra)\n",
    "        auxX.append(auxPalabra)\n",
    "        auxY.append(contenido[\"tag\"])\n",
    "        \n",
    "        if contenido[\"tag\"] not in tags:\n",
    "            tags.append(contenido[\"tag\"])\n",
    "\n",
    "#se recorreo el archivo jason y convierte minusculas las palabras\n",
    "\n",
    "palabras = [stemmer.stem(w.lower()) for w in palabras if w!=\"?\"]\n",
    "palabras = sorted(list(set(palabras)))\n",
    "tags = sorted(tags)\n",
    "\n",
    "entrenamiento = []\n",
    "salida = []\n",
    "salidaVacia =[0 for _ in range(len(tags))]\n",
    "\n",
    "for x ,documento in enumerate(auxX):\n",
    "    cubeta = []\n",
    "    auxPalabra = [stemmer.stem(w.lower()) for w in documento]\n",
    "    for w in palabras:\n",
    "        if w in auxPalabra:\n",
    "            cubeta.append(1)\n",
    "        else:\n",
    "            cubeta.append(0)\n",
    "    filaSalida = salidaVacia[:]\n",
    "    filaSalida[tags.index(auxY[x])]=1\n",
    "    entrenamiento.append(cubeta)\n",
    "    salida.append(filaSalida)\n",
    "print(entrenamiento)\n",
    "print(salida)\n"
   ]
  },
  {
   "cell_type": "code",
   "execution_count": null,
   "id": "seeing-suspension",
   "metadata": {},
   "outputs": [],
   "source": []
  },
  {
   "cell_type": "code",
   "execution_count": null,
   "id": "minus-facial",
   "metadata": {},
   "outputs": [],
   "source": []
  },
  {
   "cell_type": "code",
   "execution_count": null,
   "id": "false-pennsylvania",
   "metadata": {},
   "outputs": [],
   "source": []
  }
 ],
 "metadata": {
  "kernelspec": {
   "display_name": "Python 3",
   "language": "python",
   "name": "python3"
  },
  "language_info": {
   "codemirror_mode": {
    "name": "ipython",
    "version": 3
   },
   "file_extension": ".py",
   "mimetype": "text/x-python",
   "name": "python",
   "nbconvert_exporter": "python",
   "pygments_lexer": "ipython3",
   "version": "3.8.8"
  }
 },
 "nbformat": 4,
 "nbformat_minor": 5
}
